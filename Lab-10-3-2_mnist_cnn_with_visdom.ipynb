{
 "cells": [
  {
   "cell_type": "markdown",
   "metadata": {
    "id": "D-9F0dge6T2g"
   },
   "source": [
    "# MNIST & CNN with Visdom - Visdom을 이용해 Cost 시각화하기"
   ]
  },
  {
   "cell_type": "markdown",
   "metadata": {
    "id": "9zWC4kPw6eBO"
   },
   "source": [
    "## Imports"
   ]
  },
  {
   "cell_type": "code",
   "execution_count": 1,
   "metadata": {
    "executionInfo": {
     "elapsed": 2558,
     "status": "ok",
     "timestamp": 1657808321322,
     "user": {
      "displayName": "‍노장한[학생](소프트웨어융합대학 컴퓨터공학부)",
      "userId": "02460474193047331263"
     },
     "user_tz": -540
    },
    "id": "eBxV5tQ66MVa"
   },
   "outputs": [],
   "source": [
    "import torch\n",
    "import torch.nn as nn\n",
    "import torchvision.datasets as dsets\n",
    "import torchvision.transforms as transforms"
   ]
  },
  {
   "cell_type": "code",
   "execution_count": 2,
   "metadata": {
    "colab": {
     "base_uri": "https://localhost:8080/",
     "height": 372
    },
    "executionInfo": {
     "elapsed": 21,
     "status": "error",
     "timestamp": 1657808321330,
     "user": {
      "displayName": "‍노장한[학생](소프트웨어융합대학 컴퓨터공학부)",
      "userId": "02460474193047331263"
     },
     "user_tz": -540
    },
    "id": "NVuDDw10Dtvp",
    "outputId": "5ee37050-02d5-4345-c0f2-6f1a867b861f"
   },
   "outputs": [
    {
     "name": "stderr",
     "output_type": "stream",
     "text": [
      "Setting up a new session...\n"
     ]
    },
    {
     "data": {
      "text/plain": [
       "''"
      ]
     },
     "execution_count": 2,
     "metadata": {},
     "output_type": "execute_result"
    }
   ],
   "source": [
    "import visdom\n",
    "\n",
    "vis = visdom.Visdom()\n",
    "vis.close(env='main')"
   ]
  },
  {
   "cell_type": "markdown",
   "metadata": {
    "id": "WJkyTP2qEBtL"
   },
   "source": [
    "## Define loss_tracker"
   ]
  },
  {
   "cell_type": "code",
   "execution_count": 3,
   "metadata": {
    "executionInfo": {
     "elapsed": 10,
     "status": "aborted",
     "timestamp": 1657808321323,
     "user": {
      "displayName": "‍노장한[학생](소프트웨어융합대학 컴퓨터공학부)",
      "userId": "02460474193047331263"
     },
     "user_tz": -540
    },
    "id": "H1Su9HTYEBaM"
   },
   "outputs": [],
   "source": [
    "def loss_tracker(loss_plot, loss_value, num):\n",
    "  '''num, loss_value are Tensor'''\n",
    "  vis.line(X=num,\n",
    "           Y=loss_value,\n",
    "           win=loss_plot,\n",
    "           update='append'\n",
    "           )"
   ]
  },
  {
   "cell_type": "markdown",
   "metadata": {
    "id": "5iLDooq96qx5"
   },
   "source": [
    "## Device & reproducibility\n"
   ]
  },
  {
   "cell_type": "code",
   "execution_count": 4,
   "metadata": {
    "executionInfo": {
     "elapsed": 11,
     "status": "aborted",
     "timestamp": 1657808321324,
     "user": {
      "displayName": "‍노장한[학생](소프트웨어융합대학 컴퓨터공학부)",
      "userId": "02460474193047331263"
     },
     "user_tz": -540
    },
    "id": "UrVcrHoR68hy"
   },
   "outputs": [
    {
     "name": "stdout",
     "output_type": "stream",
     "text": [
      "cuda\n"
     ]
    }
   ],
   "source": [
    "device = 'cuda' if torch.cuda.is_available() else 'cpu'\n",
    "\n",
    "torch.manual_seed(777)\n",
    "if device == 'cuda':\n",
    "  torch.cuda.manual_seed_all(777)\n",
    "\n",
    "print(device)"
   ]
  },
  {
   "cell_type": "markdown",
   "metadata": {
    "id": "p0Y8Yzfs7F_h"
   },
   "source": [
    "## Parameters"
   ]
  },
  {
   "cell_type": "code",
   "execution_count": 5,
   "metadata": {
    "executionInfo": {
     "elapsed": 12,
     "status": "aborted",
     "timestamp": 1657808321325,
     "user": {
      "displayName": "‍노장한[학생](소프트웨어융합대학 컴퓨터공학부)",
      "userId": "02460474193047331263"
     },
     "user_tz": -540
    },
    "id": "TQdB2KLf7HZE"
   },
   "outputs": [],
   "source": [
    "learning_rate = 0.001\n",
    "training_epochs = 15\n",
    "batch_size = 100"
   ]
  },
  {
   "cell_type": "markdown",
   "metadata": {
    "id": "G4WfmOg37BFS"
   },
   "source": [
    "# Data & Data Loader\n"
   ]
  },
  {
   "cell_type": "code",
   "execution_count": 6,
   "metadata": {
    "executionInfo": {
     "elapsed": 13,
     "status": "aborted",
     "timestamp": 1657808321326,
     "user": {
      "displayName": "‍노장한[학생](소프트웨어융합대학 컴퓨터공학부)",
      "userId": "02460474193047331263"
     },
     "user_tz": -540
    },
    "id": "bnH-3snx7MQr"
   },
   "outputs": [],
   "source": [
    "mnist_train = dsets.MNIST(root='MNIST_data/',\n",
    "                          train=True,\n",
    "                          transform=transforms.ToTensor(),\n",
    "                          download= True)\n",
    "mnist_test = dsets.MNIST(root='MNIST_data/',\n",
    "                          train=False,\n",
    "                          transform=transforms.ToTensor(),\n",
    "                          download= True)\n",
    "\n",
    "data_loader = torch.utils.data.DataLoader(dataset=mnist_train,\n",
    "                                          batch_size= batch_size,\n",
    "                                          shuffle= True,\n",
    "                                          drop_last= True)"
   ]
  },
  {
   "cell_type": "markdown",
   "metadata": {
    "id": "c48fTe3t7cA8"
   },
   "source": [
    "# Model"
   ]
  },
  {
   "cell_type": "code",
   "execution_count": 7,
   "metadata": {
    "executionInfo": {
     "elapsed": 14,
     "status": "aborted",
     "timestamp": 1657808321327,
     "user": {
      "displayName": "‍노장한[학생](소프트웨어융합대학 컴퓨터공학부)",
      "userId": "02460474193047331263"
     },
     "user_tz": -540
    },
    "id": "cfxMfPzj7eC0"
   },
   "outputs": [],
   "source": [
    "class CNN(nn.Module):\n",
    "  def __init__(self):\n",
    "    super(CNN, self).__init__()\n",
    "    self.layer1 = nn.Sequential(\n",
    "        nn.Conv2d(1, 32, kernel_size= 3, stride =1, padding= 1),\n",
    "        nn.ReLU(),\n",
    "        nn.MaxPool2d(kernel_size= 2, stride= 2)\n",
    "    )\n",
    "    self.layer2 = nn.Sequential(\n",
    "        nn.Conv2d(32, 64, kernel_size= 3, stride= 1,padding= 1),\n",
    "        nn.ReLU(),\n",
    "        nn.MaxPool2d(kernel_size= 2, stride= 2)\n",
    "    )\n",
    "    self.layer3 = nn.Sequential(\n",
    "        nn.Conv2d(64, 128, kernel_size= 3, stride= 1, padding= 1),\n",
    "        nn.ReLU(),\n",
    "        nn.MaxPool2d(kernel_size= 2, stride= 2)\n",
    "    )\n",
    "\n",
    "    self.fc1 = nn.Linear(3*3*128, 625, bias=True)\n",
    "    self.relu = nn.ReLU()\n",
    "    self.fc2 = nn.Linear(625, 10, bias=True)\n",
    "    torch.nn.init.xavier_uniform_(self.fc1.weight)\n",
    "    torch.nn.init.xavier_uniform_(self.fc2.weight)\n",
    "  \n",
    "  def forward(self, x):\n",
    "    out = self.layer1(x)\n",
    "    out = self.layer2(out)\n",
    "    out = self.layer3(out)\n",
    "\n",
    "    out = out.view(out.size(0), -1)\n",
    "    out = self.fc1(out)\n",
    "    out = self.relu(out)\n",
    "    out = self.fc2(out)\n",
    "    return out"
   ]
  },
  {
   "cell_type": "code",
   "execution_count": 8,
   "metadata": {
    "executionInfo": {
     "elapsed": 13,
     "status": "aborted",
     "timestamp": 1657808321327,
     "user": {
      "displayName": "‍노장한[학생](소프트웨어융합대학 컴퓨터공학부)",
      "userId": "02460474193047331263"
     },
     "user_tz": -540
    },
    "id": "PfpE98N3ZL9N"
   },
   "outputs": [
    {
     "name": "stdout",
     "output_type": "stream",
     "text": [
      "torch.Size([1, 10])\n"
     ]
    }
   ],
   "source": [
    "model = CNN().to(device)\n",
    "\n",
    "value = torch.Tensor(1, 1, 28, 28).to(device)\n",
    "print( (model(value)).shape )"
   ]
  },
  {
   "cell_type": "markdown",
   "metadata": {
    "id": "mcB-awgYZtBK"
   },
   "source": [
    "## Cost function & optimizer"
   ]
  },
  {
   "cell_type": "code",
   "execution_count": 9,
   "metadata": {
    "executionInfo": {
     "elapsed": 14,
     "status": "aborted",
     "timestamp": 1657808321328,
     "user": {
      "displayName": "‍노장한[학생](소프트웨어융합대학 컴퓨터공학부)",
      "userId": "02460474193047331263"
     },
     "user_tz": -540
    },
    "id": "d6l8Q7SOZzLI"
   },
   "outputs": [],
   "source": [
    "criterion = torch.nn.CrossEntropyLoss()\n",
    "optimizer = torch.optim.Adam(model.parameters(), lr= learning_rate)"
   ]
  },
  {
   "cell_type": "markdown",
   "metadata": {
    "id": "BBXOCWmHEWRR"
   },
   "source": [
    "## make plot"
   ]
  },
  {
   "cell_type": "code",
   "execution_count": 10,
   "metadata": {
    "executionInfo": {
     "elapsed": 14,
     "status": "aborted",
     "timestamp": 1657808321328,
     "user": {
      "displayName": "‍노장한[학생](소프트웨어융합대학 컴퓨터공학부)",
      "userId": "02460474193047331263"
     },
     "user_tz": -540
    },
    "id": "9YfTfHsaEXo5"
   },
   "outputs": [],
   "source": [
    "loss_plt = vis.line(Y=torch.Tensor(1).zero_(),opts=dict(title='Loss Tracker',\n",
    "                                                        legend=['loss'],\n",
    "                                                        showlegend= True))"
   ]
  },
  {
   "cell_type": "markdown",
   "metadata": {
    "id": "1pyp7Ac8aIev"
   },
   "source": [
    "## Training"
   ]
  },
  {
   "cell_type": "code",
   "execution_count": 11,
   "metadata": {
    "executionInfo": {
     "elapsed": 15,
     "status": "aborted",
     "timestamp": 1657808321329,
     "user": {
      "displayName": "‍노장한[학생](소프트웨어융합대학 컴퓨터공학부)",
      "userId": "02460474193047331263"
     },
     "user_tz": -540
    },
    "id": "gFHU6OevaLgL"
   },
   "outputs": [
    {
     "name": "stdout",
     "output_type": "stream",
     "text": [
      "Epoch: 1  Cost= 0.1611432284116745\n",
      "Epoch: 2  Cost= 0.043487902730703354\n",
      "Epoch: 3  Cost= 0.030695373192429543\n",
      "Epoch: 4  Cost= 0.021754659712314606\n",
      "Epoch: 5  Cost= 0.017906855791807175\n",
      "Epoch: 6  Cost= 0.014571031555533409\n",
      "Epoch: 7  Cost= 0.013005176559090614\n",
      "Epoch: 8  Cost= 0.010678024031221867\n",
      "Epoch: 9  Cost= 0.007929728366434574\n",
      "Epoch: 10  Cost= 0.008848415687680244\n",
      "Epoch: 11  Cost= 0.008816732093691826\n",
      "Epoch: 12  Cost= 0.006029883865267038\n",
      "Epoch: 13  Cost= 0.006057250313460827\n",
      "Epoch: 14  Cost= 0.00798111129552126\n",
      "Epoch: 15  Cost= 0.005269593093544245\n",
      "Learning Finished\n"
     ]
    }
   ],
   "source": [
    "total_batch = len(data_loader)\n",
    "\n",
    "for epoch in range(training_epochs):\n",
    "  avg_cost = 0\n",
    "\n",
    "  for X,Y in data_loader:\n",
    "    X = X.to(device)\n",
    "    Y = Y.to(device)\n",
    "\n",
    "    optimizer.zero_grad()\n",
    "    hypothesis = model(X)\n",
    "    cost = criterion(hypothesis, Y)\n",
    "    cost.backward()\n",
    "    optimizer.step()\n",
    "    \n",
    "    avg_cost += cost / total_batch\n",
    "  \n",
    "  print('Epoch: {:2d}  Cost= {}'.format(epoch+1, avg_cost))\n",
    "  loss_tracker(loss_plt, torch.Tensor([avg_cost]), torch.Tensor([epoch]))\n",
    "print('Learning Finished')"
   ]
  },
  {
   "cell_type": "markdown",
   "metadata": {
    "id": "LzkEhvUGaKke"
   },
   "source": [
    "## Testing"
   ]
  },
  {
   "cell_type": "code",
   "execution_count": 12,
   "metadata": {
    "executionInfo": {
     "elapsed": 16,
     "status": "aborted",
     "timestamp": 1657808321329,
     "user": {
      "displayName": "‍노장한[학생](소프트웨어융합대학 컴퓨터공학부)",
      "userId": "02460474193047331263"
     },
     "user_tz": -540
    },
    "id": "uc9wuyNa3FgB"
   },
   "outputs": [
    {
     "name": "stdout",
     "output_type": "stream",
     "text": [
      "Accuracy: 0.9902999997138977\n"
     ]
    }
   ],
   "source": [
    "with torch.no_grad():\n",
    "  X_test = mnist_test.data.view(len(mnist_test), 1, 28, 28).float().to(device)\n",
    "  Y_test = mnist_test.targets.to(device)\n",
    "\n",
    "  prediction = model(X_test)  \n",
    "  correct_prediction = torch.argmax(prediction, 1) == Y_test\n",
    "  accuracy = correct_prediction.float().mean()\n",
    "  print('Accuracy:', accuracy.item())"
   ]
  }
 ],
 "metadata": {
  "colab": {
   "authorship_tag": "ABX9TyOKKTnnGGagsjgkzN2feVoF",
   "collapsed_sections": [],
   "name": "Lab-10-3-2_mnist_cnn_with_visdom.ipynb",
   "provenance": []
  },
  "kernelspec": {
   "display_name": "Python 3.9.12 ('base')",
   "language": "python",
   "name": "python3"
  },
  "language_info": {
   "codemirror_mode": {
    "name": "ipython",
    "version": 3
   },
   "file_extension": ".py",
   "mimetype": "text/x-python",
   "name": "python",
   "nbconvert_exporter": "python",
   "pygments_lexer": "ipython3",
   "version": "3.9.12"
  },
  "vscode": {
   "interpreter": {
    "hash": "1a65ac3b37a37a93b8ebcd02826b1cacf35f454f83592a109e8d05da0a35c33b"
   }
  }
 },
 "nbformat": 4,
 "nbformat_minor": 1
}
